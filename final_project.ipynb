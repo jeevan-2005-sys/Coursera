{
 "cells": [
  {
   "cell_type": "markdown",
   "id": "a918ecc2-5675-40a1-9859-acbb21ade667",
   "metadata": {},
   "source": [
    "# Data Science Tools and Ecosystem"
   ]
  },
  {
   "cell_type": "markdown",
   "id": "4943637a-6587-4c79-bf92-4bec65d978da",
   "metadata": {},
   "source": [
    "## Introduction\n",
    "\n",
    "In this notebook, we summarize some of the key tools, languages, and libraries used in data science. We will also demonstrate simple arithmetic operations using Python."
   ]
  },
  {
   "cell_type": "markdown",
   "id": "82b09528-af05-4a71-8dd7-7a5bca69ffb4",
   "metadata": {},
   "source": [
    "## Data Science Languages\n",
    "\n",
    "Some of the popular languages that Data Scientists use are:\n",
    "1. Python  \n",
    "2. R  \n",
    "3. SQL  \n",
    "4. Julia  \n",
    "5. Scala"
   ]
  },
  {
   "cell_type": "markdown",
   "id": "3b874750-7b42-410b-8768-35b7025f4a13",
   "metadata": {},
   "source": [
    "## Data Science Libraries\n",
    "\n",
    "Some of the commonly used libraries used by Data Scientists include:\n",
    "\n",
    "- Pandas  \n",
    "- NumPy  \n",
    "- Matplotlib  \n",
    "- Scikit-learn  \n",
    "- TensorFlow"
   ]
  },
  {
   "cell_type": "markdown",
   "id": "9f7744d2-6aab-4978-8e27-34183792e323",
   "metadata": {},
   "source": [
    "## Data Science Tools\n",
    "\n",
    "| Category            | Tool Name         |\n",
    "|---------------------|-------------------|\n",
    "| Data Analysis       | Pandas            |\n",
    "| Machine Learning    | Scikit-learn      |\n",
    "| Deep Learning       | TensorFlow        |\n",
    "| Data Visualization  | Matplotlib        |\n",
    "| Big Data Processing | Apache Spark      |"
   ]
  },
  {
   "cell_type": "markdown",
   "id": "9a4b146e-2961-46f7-bf6e-964434fc8286",
   "metadata": {},
   "source": [
    "## Arithmetic Expressions\n",
    "\n",
    "Below we will explore how to perform arithmetic operations in Python such as addition and multiplication."
   ]
  },
  {
   "cell_type": "code",
   "execution_count": 3,
   "id": "dcef0809-a44e-4d64-9b6a-723593c327bc",
   "metadata": {},
   "outputs": [
    {
     "data": {
      "text/plain": [
       "17"
      ]
     },
     "execution_count": 3,
     "metadata": {},
     "output_type": "execute_result"
    }
   ],
   "source": [
    "# This is a simple arithmetic expression to multiply then add integers\n",
    "(3 * 4) + 5"
   ]
  },
  {
   "cell_type": "code",
   "execution_count": 4,
   "id": "0fefad72-9be0-4cb1-825a-be3f2c500cb9",
   "metadata": {},
   "outputs": [
    {
     "data": {
      "text/plain": [
       "3.3333333333333335"
      ]
     },
     "execution_count": 4,
     "metadata": {},
     "output_type": "execute_result"
    }
   ],
   "source": [
    "# This will convert 200 minutes to hours by dividing by 60\n",
    "minutes = 200\n",
    "hours = minutes / 60\n",
    "hours"
   ]
  },
  {
   "cell_type": "markdown",
   "id": "c333afc3-a83a-4df8-9562-38da1cbc77b8",
   "metadata": {},
   "source": [
    "## Objectives\n",
    "\n",
    "In this notebook, we will:\n",
    "\n",
    "- List popular languages for Data Science  \n",
    "- List commonly used libraries in Data Science  \n",
    "- Create a table of Data Science tools  \n",
    "- Perform arithmetic operations using Python  \n",
    "- Convert minutes into hours"
   ]
  },
  {
   "cell_type": "markdown",
   "id": "477d459b-9873-4427-9987-a6c8f8675706",
   "metadata": {},
   "source": [
    "## Author\n",
    "\n",
    "Jeevan Tanniru"
   ]
  },
  {
   "cell_type": "code",
   "execution_count": null,
   "id": "352805a3-7093-4af1-b564-01ee54dac98e",
   "metadata": {},
   "outputs": [],
   "source": []
  }
 ],
 "metadata": {
  "kernelspec": {
   "display_name": "Python 3 (ipykernel)",
   "language": "python",
   "name": "python3"
  },
  "language_info": {
   "codemirror_mode": {
    "name": "ipython",
    "version": 3
   },
   "file_extension": ".py",
   "mimetype": "text/x-python",
   "name": "python",
   "nbconvert_exporter": "python",
   "pygments_lexer": "ipython3",
   "version": "3.12.3"
  }
 },
 "nbformat": 4,
 "nbformat_minor": 5
}
